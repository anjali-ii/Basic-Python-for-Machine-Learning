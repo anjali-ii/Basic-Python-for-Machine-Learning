{
  "nbformat": 4,
  "nbformat_minor": 0,
  "metadata": {
    "colab": {
      "provenance": [],
      "authorship_tag": "ABX9TyPcRz+LhOMLVtIJvC7mPHh9",
      "include_colab_link": true
    },
    "kernelspec": {
      "name": "python3",
      "display_name": "Python 3"
    },
    "language_info": {
      "name": "python"
    }
  },
  "cells": [
    {
      "cell_type": "markdown",
      "metadata": {
        "id": "view-in-github",
        "colab_type": "text"
      },
      "source": [
        "<a href=\"https://colab.research.google.com/github/anjali-ii/Basic-Python-for-Machine-Learning/blob/main/python_tutorial.ipynb\" target=\"_parent\"><img src=\"https://colab.research.google.com/assets/colab-badge.svg\" alt=\"Open In Colab\"/></a>"
      ]
    },
    {
      "cell_type": "markdown",
      "source": [
        "# Python Basics "
      ],
      "metadata": {
        "id": "0GDWiQRjDJZq"
      }
    },
    {
      "cell_type": "code",
      "execution_count": 1,
      "metadata": {
        "colab": {
          "base_uri": "https://localhost:8080/"
        },
        "id": "9LPtOITFC3b_",
        "outputId": "eaa1fd3b-a43c-4398-cd95-dc5e8238b309"
      },
      "outputs": [
        {
          "output_type": "stream",
          "name": "stdout",
          "text": [
            "Hello, Python!\n",
            "hi\n"
          ]
        }
      ],
      "source": [
        "# Printing a string\n",
        "print(\"Hello, Python!\")\n",
        "print('hi')"
      ]
    },
    {
      "cell_type": "markdown",
      "source": [
        "### Variables"
      ],
      "metadata": {
        "id": "GFZm9iuWDh_o"
      }
    },
    {
      "cell_type": "code",
      "source": [
        "# defining a variable : In Python there is no need to mention the data type\n",
        "\n",
        "var1 = 10      # An integer assignment\n",
        "var2 = 3.146   # A floating point\n",
        "var3 = \"Hello\" # A string\n",
        "\n",
        "print(var1,' ',var2,' ',var3)"
      ],
      "metadata": {
        "colab": {
          "base_uri": "https://localhost:8080/"
        },
        "id": "fkNLyY2sDihN",
        "outputId": "5c1150c3-0692-46bb-8837-bab1e8c75c7d"
      },
      "execution_count": 2,
      "outputs": [
        {
          "output_type": "stream",
          "name": "stdout",
          "text": [
            "10   3.146   Hello\n"
          ]
        }
      ]
    },
    {
      "cell_type": "code",
      "source": [
        "pi = 3.14\n",
        "print (\"Value of Pi is\",pi)"
      ],
      "metadata": {
        "colab": {
          "base_uri": "https://localhost:8080/"
        },
        "id": "_MDjWLTtD92r",
        "outputId": "3cf37c1f-7379-4dc3-851d-b1eb205356a9"
      },
      "execution_count": 3,
      "outputs": [
        {
          "output_type": "stream",
          "name": "stdout",
          "text": [
            "Value of Pi is 3.14\n"
          ]
        }
      ]
    },
    {
      "cell_type": "markdown",
      "source": [
        "### Assignment"
      ],
      "metadata": {
        "id": "8kln5xTXEKyY"
      }
    },
    {
      "cell_type": "code",
      "source": [
        "# Assigning same value to multiple variables\n",
        "\n",
        "var1 = var2 = var3 = 1\n",
        "print(var1,' ',var2,' ',var3)\n",
        "\n",
        "# Assigning Different values to variable in a single expression\n",
        "\n",
        "var1, var2, var3 = 1, 2.5, \"john\"\n",
        "print(var1,' ',var2,' ',var3)\n",
        "\n",
        "# Note: commas can be used for multi-assignments"
      ],
      "metadata": {
        "colab": {
          "base_uri": "https://localhost:8080/"
        },
        "id": "8G3Za19TD_U4",
        "outputId": "8a22e247-5a28-4ffb-ef34-5243a44e1313"
      },
      "execution_count": 4,
      "outputs": [
        {
          "output_type": "stream",
          "name": "stdout",
          "text": [
            "1   1   1\n",
            "1   2.5   john\n"
          ]
        }
      ]
    },
    {
      "cell_type": "markdown",
      "source": [
        "### Slicing"
      ],
      "metadata": {
        "id": "0LGj4xE6Egt4"
      }
    },
    {
      "cell_type": "code",
      "source": [
        "# String operations\n",
        "\n",
        "str = 'Hello World!'  # A string\n",
        "\n",
        "print(str)          # Prints complete string\n",
        "print(str[0])       # Prints first character of the string\n",
        "print(str[2:5])     # Prints characters starting from 3rd to 5th element\n",
        "print(str[2:])      # Prints string starting from 3rd character\n",
        "print(str[:2])\n",
        "print(str * 2)      # Prints string two times\n",
        "print(str + \"TEST\") # Prints concatenated string"
      ],
      "metadata": {
        "colab": {
          "base_uri": "https://localhost:8080/"
        },
        "id": "CrJjQRJ7EPa2",
        "outputId": "ba5fa2cc-37b8-403a-8629-4ddc6cf3ef29"
      },
      "execution_count": 5,
      "outputs": [
        {
          "output_type": "stream",
          "name": "stdout",
          "text": [
            "Hello World!\n",
            "H\n",
            "llo\n",
            "llo World!\n",
            "He\n",
            "Hello World!Hello World!\n",
            "Hello World!TEST\n"
          ]
        }
      ]
    },
    {
      "cell_type": "markdown",
      "source": [
        "### Data Types"
      ],
      "metadata": {
        "id": "fq2b6Wp0EwTT"
      }
    },
    {
      "cell_type": "code",
      "source": [
        "# Python Lists\n",
        "list = [ 'abcd', 786 , 2.23, 'john', 70.2 ]  # A list\n",
        "tuple = ( 'abcd', 786 , 2.23, 'john', 70.2  ) # A tuple. Tuples are immutable, i.e. cannot be edit later\n",
        "\n",
        "print(list)            # Prints complete list\n",
        "print(list[0])         # Prints first element of the list\n",
        "print(tuple[1:3])        # Prints elements starting from 2nd till 3rd \n",
        "\n",
        "list[0] = 'fgg'"
      ],
      "metadata": {
        "colab": {
          "base_uri": "https://localhost:8080/"
        },
        "id": "i9E2-BNvEfLg",
        "outputId": "11b54f09-ea35-4f32-f7d8-17aadcda413b"
      },
      "execution_count": 6,
      "outputs": [
        {
          "output_type": "stream",
          "name": "stdout",
          "text": [
            "['abcd', 786, 2.23, 'john', 70.2]\n",
            "abcd\n",
            "(786, 2.23)\n"
          ]
        }
      ]
    },
    {
      "cell_type": "markdown",
      "source": [
        "### Exercise\n",
        "- Try assignments like $list[0] = 'csdc'$, $print(list)$ and $tuple[0] = 'csdc'$, $print(tuple)$"
      ],
      "metadata": {
        "id": "Eh2DGsinFX-l"
      }
    },
    {
      "cell_type": "code",
      "source": [
        "list[0] = 'csdc'\n",
        "print(list)"
      ],
      "metadata": {
        "colab": {
          "base_uri": "https://localhost:8080/"
        },
        "id": "o8LGdiWBEvZy",
        "outputId": "fceb5f27-35a9-4f5c-e765-953df0dad44f"
      },
      "execution_count": 7,
      "outputs": [
        {
          "output_type": "stream",
          "name": "stdout",
          "text": [
            "['csdc', 786, 2.23, 'john', 70.2]\n"
          ]
        }
      ]
    },
    {
      "cell_type": "code",
      "source": [
        "#tuple[0] = 'csdc'  This will be an error ie tuples are immutable\n",
        "print(tuple)"
      ],
      "metadata": {
        "colab": {
          "base_uri": "https://localhost:8080/"
        },
        "id": "A45MPMu-F420",
        "outputId": "cc8dc995-97fa-4f13-947b-378ec4efcc57"
      },
      "execution_count": 10,
      "outputs": [
        {
          "output_type": "stream",
          "name": "stdout",
          "text": [
            "('abcd', 786, 2.23, 'john', 70.2)\n"
          ]
        }
      ]
    },
    {
      "cell_type": "code",
      "source": [
        "# Lists are ordered sets of objects, whereas dictionaries are unordered sets. But the main difference is that items in dictionaries are accessed via keys and not via their position.\n",
        "tel = {'jack': 4098, 'sape': 4139}\n",
        "tel['guido'] = 4127\n",
        "print(tel)\n",
        "print(tel['jack'])\n",
        "del tel['sape']\n",
        "tel['irv'] = 4127\n",
        "print(tel)\n",
        "print(tel.keys())\n",
        "print(sorted(tel.keys()))\n",
        "print(sorted(tel.values()))\n",
        "print('guido' in tel)\n",
        "print('jack' not in tel)"
      ],
      "metadata": {
        "colab": {
          "base_uri": "https://localhost:8080/"
        },
        "id": "kpkvu5SuGEZn",
        "outputId": "450b0371-c251-4434-f900-59cf9f3e6265"
      },
      "execution_count": 11,
      "outputs": [
        {
          "output_type": "stream",
          "name": "stdout",
          "text": [
            "{'jack': 4098, 'sape': 4139, 'guido': 4127}\n",
            "4098\n",
            "{'jack': 4098, 'guido': 4127, 'irv': 4127}\n",
            "dict_keys(['jack', 'guido', 'irv'])\n",
            "['guido', 'irv', 'jack']\n",
            "[4098, 4127, 4127]\n",
            "True\n",
            "False\n"
          ]
        }
      ]
    },
    {
      "cell_type": "markdown",
      "source": [
        "###  Conditioning and looping"
      ],
      "metadata": {
        "id": "64woT3CuGrty"
      }
    },
    {
      "cell_type": "code",
      "source": [
        "# Square of even numbers\n",
        "\n",
        "for i in range(0,10):\n",
        "    \n",
        "    if i%2 == 0:\n",
        "        print(\"Square of \",i,\" is :\",i*i)\n",
        "        \n",
        "    else:\n",
        "        print(i,\"is an odd number\")    "
      ],
      "metadata": {
        "colab": {
          "base_uri": "https://localhost:8080/"
        },
        "id": "552EXHWDGaJV",
        "outputId": "5eb3990a-f228-412c-d0ad-f43ce143c2d6"
      },
      "execution_count": 12,
      "outputs": [
        {
          "output_type": "stream",
          "name": "stdout",
          "text": [
            "Square of  0  is : 0\n",
            "1 is an odd number\n",
            "Square of  2  is : 4\n",
            "3 is an odd number\n",
            "Square of  4  is : 16\n",
            "5 is an odd number\n",
            "Square of  6  is : 36\n",
            "7 is an odd number\n",
            "Square of  8  is : 64\n",
            "9 is an odd number\n"
          ]
        }
      ]
    },
    {
      "cell_type": "markdown",
      "source": [
        "### Built-in Functions"
      ],
      "metadata": {
        "id": "wyFEJAHCG9OM"
      }
    },
    {
      "cell_type": "code",
      "source": [
        "print(\"Sum of array: \",sum([1,2,3,4]))\n",
        "print(\"Length of array: \",len([1,2,3,4]))\n",
        "print(\"Absolute value: \",abs(-1234))\n",
        "print(\"Round value: \",round(1.2234))\n",
        "\n",
        "import math as mt      # importing a package\n",
        "print(\"Log value: \",mt.log(10))"
      ],
      "metadata": {
        "colab": {
          "base_uri": "https://localhost:8080/"
        },
        "id": "Sg_eflliGwYp",
        "outputId": "004113db-1bf5-4993-e10e-30317b45cbc2"
      },
      "execution_count": 13,
      "outputs": [
        {
          "output_type": "stream",
          "name": "stdout",
          "text": [
            "Sum of array:  10\n",
            "Length of array:  4\n",
            "Absolute value:  1234\n",
            "Round value:  1\n",
            "Log value:  2.302585092994046\n"
          ]
        }
      ]
    },
    {
      "cell_type": "markdown",
      "source": [
        "### Functions"
      ],
      "metadata": {
        "id": "WoCgefkJHJ6p"
      }
    },
    {
      "cell_type": "code",
      "source": [
        "def area(length,width):\n",
        "    return length*width\n",
        "are = area(10,20)\n",
        "print(\"Area of rectangle:\",are)"
      ],
      "metadata": {
        "colab": {
          "base_uri": "https://localhost:8080/"
        },
        "id": "V-AOfIAoG-cJ",
        "outputId": "50145635-056e-4d1c-caa5-b9956e486c75"
      },
      "execution_count": 14,
      "outputs": [
        {
          "output_type": "stream",
          "name": "stdout",
          "text": [
            "Area of rectangle: 200\n"
          ]
        }
      ]
    },
    {
      "cell_type": "markdown",
      "source": [
        "### Broadcasting\n",
        "* Subject to certain constraints, the smaller array is “broadcast” across the larger array so that they have compatible shapes\n",
        "\n",
        "### NumPy \n",
        "* Numpy is the fundamental package for numerical computing with Python. It contains among other things:\n",
        "* a powerful N-dimensional array object\n",
        "* sophisticated (broadcasting) functions\n",
        "* tools for integrating C/C++ and Fortran code\n",
        "* useful linear algebra, Fourier transform, and random number capabilities\n",
        "* Details of <a href=\"https://docs.scipy.org/doc/numpy/contents.html\">numpy</a>"
      ],
      "metadata": {
        "id": "Whk9R6ClHcEC"
      }
    },
    {
      "cell_type": "code",
      "source": [
        "import numpy as np   # Importing libraries\n",
        "\n",
        "a = np.array([0, 1, 2])\n",
        "b = np.array([5, 5, 5])\n",
        "\n",
        "print(\"Matrix A\\n\", a)\n",
        "print(\"Matrix B\\n\", b)\n",
        "\n",
        "print(\"Regular matrix addition A+B\\n\", a + b)\n",
        "\n",
        "print(\"Addition using Broadcasting A+5\\n\", a + 5)"
      ],
      "metadata": {
        "colab": {
          "base_uri": "https://localhost:8080/"
        },
        "id": "EQpK1jgnHcq3",
        "outputId": "da840617-2bb7-40e0-afcc-0186af68a694"
      },
      "execution_count": 16,
      "outputs": [
        {
          "output_type": "stream",
          "name": "stdout",
          "text": [
            "Matrix A\n",
            " [0 1 2]\n",
            "Matrix B\n",
            " [5 5 5]\n",
            "Regular matrix addition A+B\n",
            " [5 6 7]\n",
            "Addition using Broadcasting A+5\n",
            " [5 6 7]\n"
          ]
        }
      ]
    },
    {
      "cell_type": "markdown",
      "source": [
        "### Broadcasting Rules\n",
        "When operating on two arrays, NumPy compares their shapes element-wise. It starts with the trailing dimensions, and works its way forward. Two dimensions are compatible when\n",
        "\n",
        "1. they are equal, or\n",
        "2.  one of them is 1\n"
      ],
      "metadata": {
        "id": "JOGXTMQhHtz8"
      }
    },
    {
      "cell_type": "code",
      "source": [
        "# Lets go for a 2D matrix\n",
        "c = np.array([[0, 1, 2],[3, 4, 5],[6, 7, 8]])\n",
        "d = np.array([[1, 2, 3],[1, 2, 3],[1, 2, 3]])\n",
        "\n",
        "e = np.array([1, 2, 3])\n",
        "\n",
        "print(\"Matrix C\\n\", c)\n",
        "print(\"Matrix D\\n\", d)\n",
        "print(\"Matrix E\\n\", e)\n",
        "\n",
        "print(\"Regular matrix addition C+D\\n\", c + d)\n",
        "\n",
        "print(\"Addition using Broadcasting C+E\\n\", c + e)"
      ],
      "metadata": {
        "colab": {
          "base_uri": "https://localhost:8080/"
        },
        "id": "1BJW6rP1HfxD",
        "outputId": "907f094b-ebbe-4d23-8f39-ba0137c589dd"
      },
      "execution_count": 17,
      "outputs": [
        {
          "output_type": "stream",
          "name": "stdout",
          "text": [
            "Matrix C\n",
            " [[0 1 2]\n",
            " [3 4 5]\n",
            " [6 7 8]]\n",
            "Matrix D\n",
            " [[1 2 3]\n",
            " [1 2 3]\n",
            " [1 2 3]]\n",
            "Matrix E\n",
            " [1 2 3]\n",
            "Regular matrix addition C+D\n",
            " [[ 1  3  5]\n",
            " [ 4  6  8]\n",
            " [ 7  9 11]]\n",
            "Addition using Broadcasting C+E\n",
            " [[ 1  3  5]\n",
            " [ 4  6  8]\n",
            " [ 7  9 11]]\n"
          ]
        }
      ]
    },
    {
      "cell_type": "code",
      "source": [
        "M = np.ones((3, 3))\n",
        "print(\"Matrix M:\\n\",M)"
      ],
      "metadata": {
        "colab": {
          "base_uri": "https://localhost:8080/"
        },
        "id": "i3fScVzDH2PJ",
        "outputId": "d3a24827-0b38-4b64-f7f3-234648f5d1ae"
      },
      "execution_count": 18,
      "outputs": [
        {
          "output_type": "stream",
          "name": "stdout",
          "text": [
            "Matrix M:\n",
            " [[1. 1. 1.]\n",
            " [1. 1. 1.]\n",
            " [1. 1. 1.]]\n"
          ]
        }
      ]
    },
    {
      "cell_type": "markdown",
      "source": [
        "## All in one program"
      ],
      "metadata": {
        "id": "JSD4IbqDIPmx"
      }
    },
    {
      "cell_type": "code",
      "source": [
        "# Importing libraries\n",
        "import timeit\n",
        "\n",
        "# Usage of builtin functions\n",
        "start = timeit.default_timer()   \n",
        "\n",
        "# Defining a list\n",
        "array_list = [10,11,15,19,21,32]      \n",
        "array_np_list = []\n",
        "\n",
        "# Print the list\n",
        "print(\"Original List\",array_list,\"\\n\")   \n",
        "\n",
        "# Defining a function\n",
        "def prime(num):      \n",
        "    if num > 1:     \n",
        "        \n",
        "        # check for factors\n",
        "        # Iterating a range of numbers\n",
        "        for i in range(2,num):    \n",
        "            if (num % i) == 0:\n",
        "                \n",
        "                # Appending data to list\n",
        "                array_np_list.append(num)           \n",
        "                print(num,\"is not a prime number (\",i,\"times\",num//i,\"is\",num,\")\")\n",
        "                \n",
        "                # Terminating a loop run\n",
        "                break         \n",
        "        else:\n",
        "            print(num,\"is a prime number\")\n",
        "            \n",
        "# Iterating a list\n",
        "for item in array_list:\n",
        "    \n",
        "    # Calling a function\n",
        "    prime(item)         \n",
        "\n",
        "print(\"\\nNon-prime List\",array_np_list,\"\\n\")\n",
        "\n",
        "end = timeit.default_timer()\n",
        "\n",
        "# Computing running time\n",
        "print(\"Time Taken to run the program:\",end - start, \"seconds\")       "
      ],
      "metadata": {
        "colab": {
          "base_uri": "https://localhost:8080/"
        },
        "id": "kv5V01wzIEUJ",
        "outputId": "aff10afa-db38-43f5-a32f-f423eddb0d1d"
      },
      "execution_count": 20,
      "outputs": [
        {
          "output_type": "stream",
          "name": "stdout",
          "text": [
            "Original List [10, 11, 15, 19, 21, 32] \n",
            "\n",
            "10 is not a prime number ( 2 times 5 is 10 )\n",
            "11 is a prime number\n",
            "15 is not a prime number ( 3 times 5 is 15 )\n",
            "19 is a prime number\n",
            "21 is not a prime number ( 3 times 7 is 21 )\n",
            "32 is not a prime number ( 2 times 16 is 32 )\n",
            "\n",
            "Non-prime List [10, 15, 21, 32] \n",
            "\n",
            "Time Taken to run the program: 0.0038148119999732444 seconds\n"
          ]
        }
      ]
    },
    {
      "cell_type": "markdown",
      "source": [
        "### Note:\n",
        "* Python is a procedural Language\n",
        "* Two versions of Python 2 vs 3\n",
        "* No braces. i.e. indentation\n",
        "* No need to explicitly mention data type"
      ],
      "metadata": {
        "id": "uNkLSBKzIaJG"
      }
    },
    {
      "cell_type": "markdown",
      "source": [
        "## Unvectorized vs Vectorized Implementations"
      ],
      "metadata": {
        "id": "nJWySi9HIe3X"
      }
    },
    {
      "cell_type": "code",
      "source": [
        "# Importing libraries\n",
        "import numpy as np\n",
        "\n",
        "# Defining matrices\n",
        "mat_a = [[6, 7, 8],[5, 4, 5],[1, 1, 1]]\n",
        "mat_b = [[1, 2, 3],[1, 2, 3],[1, 2, 3]]\n",
        "\n",
        "# Getting a row from matrix\n",
        "def get_row(matrix, row):\n",
        "    return matrix[row]\n",
        "\n",
        "# Getting a coloumn from matrix\n",
        "def get_column(matrix, column_number):\n",
        "    column = []\n",
        " \n",
        "    for i in range(len(matrix)):\n",
        "        column.append(matrix[i][column_number])\n",
        " \n",
        "    return column\n",
        "\n",
        "# Multiply a row with coloumn\n",
        "def unv_dot_product(vector_one, vector_two):\n",
        "    total = 0\n",
        " \n",
        "    if len(vector_one) != len(vector_two):\n",
        "        return total\n",
        " \n",
        "    for i in range(len(vector_one)):\n",
        "        product = vector_one[i] * vector_two[i]\n",
        "        total += product\n",
        " \n",
        "    return total\n",
        "\n",
        "# Multiply two matrixes\n",
        "def matrix_multiplication(matrix_one, matrix_two):\n",
        "    m_rows = len(matrix_one)\n",
        "    p_columns = len(matrix_two[0])\n",
        "    result = []\n",
        "    \n",
        "    for i in range(m_rows):\n",
        "        row_result = []\n",
        " \n",
        "        for j in range(p_columns):\n",
        "            row = get_row(matrix_one, i)\n",
        "            column = get_column(matrix_two, j)\n",
        "            product = unv_dot_product(row, column)\n",
        "            \n",
        "            row_result.append(product) \n",
        "        result.append(row_result)\n",
        "        \n",
        "    return result\n",
        "\n",
        "print(\"Matrix A: \", mat_a,\"\\n\")\n",
        "print(\"Matrix B: \", mat_b,\"\\n\")\n",
        "#mat_a.dot(mat_b)\n",
        "print(\"Unvectorized Matrix Multiplication\\n\",matrix_multiplication(mat_a,mat_b),\"\\n\")\n"
      ],
      "metadata": {
        "colab": {
          "base_uri": "https://localhost:8080/"
        },
        "id": "L1GFtAqdITTc",
        "outputId": "983a707a-52ea-43b3-ae14-95226991e2f6"
      },
      "execution_count": 21,
      "outputs": [
        {
          "output_type": "stream",
          "name": "stdout",
          "text": [
            "Matrix A:  [[6, 7, 8], [5, 4, 5], [1, 1, 1]] \n",
            "\n",
            "Matrix B:  [[1, 2, 3], [1, 2, 3], [1, 2, 3]] \n",
            "\n",
            "Unvectorized Matrix Multiplication\n",
            " [[21, 42, 63], [14, 28, 42], [3, 6, 9]] \n",
            "\n"
          ]
        }
      ]
    },
    {
      "cell_type": "code",
      "source": [
        "# Vectorized Implementation\n",
        "npm_a = np.array(mat_a)\n",
        "npm_b = np.array(mat_b)\n",
        "\n",
        "print(\"Vectorized Matrix Multiplication\\n\",npm_a.dot(npm_b),\"\\n\") \n",
        "# A.dot(B) is a numpy built-in function for dot product"
      ],
      "metadata": {
        "colab": {
          "base_uri": "https://localhost:8080/"
        },
        "id": "UW0BDg1CIjMI",
        "outputId": "72eebed9-6035-469c-9044-6b3eb8d6be84"
      },
      "execution_count": 22,
      "outputs": [
        {
          "output_type": "stream",
          "name": "stdout",
          "text": [
            "Vectorized Matrix Multiplication\n",
            " [[21 42 63]\n",
            " [14 28 42]\n",
            " [ 3  6  9]] \n",
            "\n"
          ]
        }
      ]
    },
    {
      "cell_type": "markdown",
      "source": [
        "### Tip:\n",
        "* Vectorization reduces number of lines of code\n",
        "* Always prefer libraries and avoid coding from scratch"
      ],
      "metadata": {
        "id": "6TavoqfzJUuz"
      }
    },
    {
      "cell_type": "markdown",
      "source": [
        "## Essential Python Packages: Numpy, Pandas, Matplotlib\n"
      ],
      "metadata": {
        "id": "TnVQOf2MJY65"
      }
    },
    {
      "cell_type": "code",
      "source": [
        "# Load library\n",
        "import numpy as np"
      ],
      "metadata": {
        "id": "BtUSNC9sJMxV"
      },
      "execution_count": 23,
      "outputs": []
    },
    {
      "cell_type": "code",
      "source": [
        "# Create row vector\n",
        "vector = np.array([1, 2, 3, 4, 5, 6])\n",
        "print(\"Vector:\",vector)\n",
        "\n",
        "# Select second element\n",
        "print(\"Element 2 in Vector is\",vector[1])"
      ],
      "metadata": {
        "colab": {
          "base_uri": "https://localhost:8080/"
        },
        "id": "nHHRz97sJePw",
        "outputId": "0484a3d0-0400-45a7-d835-3d3062df0011"
      },
      "execution_count": 24,
      "outputs": [
        {
          "output_type": "stream",
          "name": "stdout",
          "text": [
            "Vector: [1 2 3 4 5 6]\n",
            "Element 2 in Vector is 2\n"
          ]
        }
      ]
    },
    {
      "cell_type": "code",
      "source": [
        "# Create matrix\n",
        "matrix = np.array([[1, 2, 3],\n",
        "                   [4, 5, 6],\n",
        "                   [7, 8, 9]])\n",
        "\n",
        "print(\"Matrix\\n\",matrix)\n",
        "\n",
        "# Select second row\n",
        "print(\"Second row of Matrix\\n\",matrix[1,:])\n",
        "print(\"Third coloumn of Matrix\\n\",matrix[:,2])"
      ],
      "metadata": {
        "colab": {
          "base_uri": "https://localhost:8080/"
        },
        "id": "6RFoPbmUJgyV",
        "outputId": "f241024a-1fe2-4ed2-aeb9-6e5807cbf253"
      },
      "execution_count": 25,
      "outputs": [
        {
          "output_type": "stream",
          "name": "stdout",
          "text": [
            "Matrix\n",
            " [[1 2 3]\n",
            " [4 5 6]\n",
            " [7 8 9]]\n",
            "Second row of Matrix\n",
            " [4 5 6]\n",
            "Third coloumn of Matrix\n",
            " [3 6 9]\n"
          ]
        }
      ]
    },
    {
      "cell_type": "code",
      "source": [
        "# Create Tensor\n",
        "tensor = np.array([ [[[1, 1], [1, 1]], [[2, 2], [2, 2]]],\n",
        "                    [[[3, 3], [3, 3]], [[4, 4], [4, 4]]] ])\n",
        "\n",
        "print(\"Tensor\\n\",tensor)"
      ],
      "metadata": {
        "colab": {
          "base_uri": "https://localhost:8080/"
        },
        "id": "pNyznttyJjmU",
        "outputId": "4d068b6c-9a10-45aa-e388-93a8812ac9ec"
      },
      "execution_count": 26,
      "outputs": [
        {
          "output_type": "stream",
          "name": "stdout",
          "text": [
            "Tensor\n",
            " [[[[1 1]\n",
            "   [1 1]]\n",
            "\n",
            "  [[2 2]\n",
            "   [2 2]]]\n",
            "\n",
            "\n",
            " [[[3 3]\n",
            "   [3 3]]\n",
            "\n",
            "  [[4 4]\n",
            "   [4 4]]]]\n"
          ]
        }
      ]
    },
    {
      "cell_type": "markdown",
      "source": [
        "### Matrix properties"
      ],
      "metadata": {
        "id": "4wLZihz8J5_M"
      }
    },
    {
      "cell_type": "code",
      "source": [
        "# Create matrix\n",
        "matrix = np.array([[1, 2, 3],\n",
        "                   [4, 5, 6],\n",
        "                   [7, 8, 9]])\n",
        "\n",
        "print(\"Matrix Shape:\",matrix.shape)\n",
        "print(\"Number of elements:\",matrix.size)\n",
        "print(\"Number of dimentions:\",matrix.ndim)\n",
        "print(\"Average of matrix:\",np.mean(matrix))\n",
        "print(\"Maximum number:\",np.max(matrix))\n",
        "print(\"Coloumn with minimum numbers:\",np.min(matrix, axis=1))\n",
        "print(\"Diagnol of matrix:\",matrix.diagonal())\n",
        "print(\"Determinant of matrix:\",np.linalg.det(matrix))"
      ],
      "metadata": {
        "colab": {
          "base_uri": "https://localhost:8080/"
        },
        "id": "k1N9JIsCJuZg",
        "outputId": "6440c6a8-d7e1-4555-8ce4-9fbfc6fb988d"
      },
      "execution_count": 27,
      "outputs": [
        {
          "output_type": "stream",
          "name": "stdout",
          "text": [
            "Matrix Shape: (3, 3)\n",
            "Number of elements: 9\n",
            "Number of dimentions: 2\n",
            "Average of matrix: 5.0\n",
            "Maximum number: 9\n",
            "Coloumn with minimum numbers: [1 4 7]\n",
            "Diagnol of matrix: [1 5 9]\n",
            "Determinant of matrix: 0.0\n"
          ]
        }
      ]
    },
    {
      "cell_type": "markdown",
      "source": [
        "### Matrix Operations"
      ],
      "metadata": {
        "id": "ajLcc0ruKBXx"
      }
    },
    {
      "cell_type": "code",
      "source": [
        "print(\"Flattened Matrix\\n\",matrix.flatten())\n",
        "print(\"Reshaping Matrix\\n\",matrix.reshape(9,1))\n",
        "print(\"Transposed Matrix\\n\",matrix.T)"
      ],
      "metadata": {
        "colab": {
          "base_uri": "https://localhost:8080/"
        },
        "id": "08QMADZRJ9ku",
        "outputId": "73f03e24-0979-459d-fcd7-259fbadb29f5"
      },
      "execution_count": 28,
      "outputs": [
        {
          "output_type": "stream",
          "name": "stdout",
          "text": [
            "Flattened Matrix\n",
            " [1 2 3 4 5 6 7 8 9]\n",
            "Reshaping Matrix\n",
            " [[1]\n",
            " [2]\n",
            " [3]\n",
            " [4]\n",
            " [5]\n",
            " [6]\n",
            " [7]\n",
            " [8]\n",
            " [9]]\n",
            "Transposed Matrix\n",
            " [[1 4 7]\n",
            " [2 5 8]\n",
            " [3 6 9]]\n"
          ]
        }
      ]
    },
    {
      "cell_type": "code",
      "source": [
        "# Create matrix\n",
        "matrix_a = np.array([[1, 1, 1],\n",
        "                     [1, 1, 1],\n",
        "                     [1, 1, 2]])\n",
        "\n",
        "# Create matrix\n",
        "matrix_b = np.array([[1, 3, 1],\n",
        "                     [1, 3, 1],\n",
        "                     [1, 3, 8]])\n",
        "\n",
        "print(\"Matrix Addition\\n\",np.add(matrix_a, matrix_b))\n",
        "print(\"Scalar Multiplication\\n\",np.multiply(matrix_a, matrix_b))\n",
        "print(\"Matrix Multiplication\\n\",np.dot(matrix_a, matrix_b))"
      ],
      "metadata": {
        "colab": {
          "base_uri": "https://localhost:8080/"
        },
        "id": "9aE8f9f0KIvW",
        "outputId": "0eaef3f6-31be-43f5-d5de-59530cdc007e"
      },
      "execution_count": 29,
      "outputs": [
        {
          "output_type": "stream",
          "name": "stdout",
          "text": [
            "Matrix Addition\n",
            " [[ 2  4  2]\n",
            " [ 2  4  2]\n",
            " [ 2  4 10]]\n",
            "Scalar Multiplication\n",
            " [[ 1  3  1]\n",
            " [ 1  3  1]\n",
            " [ 1  3 16]]\n",
            "Matrix Multiplication\n",
            " [[ 3  9 10]\n",
            " [ 3  9 10]\n",
            " [ 4 12 18]]\n"
          ]
        }
      ]
    },
    {
      "cell_type": "markdown",
      "source": [
        "### Pandas\n",
        "Details of <a href=\"https://pandas.pydata.org/pandas-docs/stable/tutorials.html\"> pandas </a>"
      ],
      "metadata": {
        "id": "c2xuXwOLKpq4"
      }
    },
    {
      "cell_type": "code",
      "source": [
        "import pandas as pd"
      ],
      "metadata": {
        "id": "g1ltaijIKdQ_"
      },
      "execution_count": 30,
      "outputs": []
    },
    {
      "cell_type": "code",
      "source": [
        "df=pd.read_csv(\"https://raw.githubusercontent.com/sijuswamy/Basic-Python-for-Machine-Learning/main/Income.csv\")# load a file from github\n",
        "print(\"Data\\n\")\n",
        "df"
      ],
      "metadata": {
        "colab": {
          "base_uri": "https://localhost:8080/",
          "height": 679
        },
        "id": "dAedWqMQKtoo",
        "outputId": "04daa588-c757-4185-9612-7a362a06a465"
      },
      "execution_count": 31,
      "outputs": [
        {
          "output_type": "stream",
          "name": "stdout",
          "text": [
            "Data\n",
            "\n"
          ]
        },
        {
          "output_type": "execute_result",
          "data": {
            "text/plain": [
              "        ID  Income Category Place\n",
              "0    QSPD1  491282        A   PKN\n",
              "1    QSPD2  471283        A   IND\n",
              "2    QSPD3  340922        A   PKN\n",
              "3    QSPD4  201982        A   IND\n",
              "4    QSPD5  467411        B   PKN\n",
              "5    QSPD6  235213        B   IND\n",
              "6    QSPD7  349655        B   PKN\n",
              "7    QSPD8  136889        B   IND\n",
              "8    QSPD9  202381        C   PKN\n",
              "9   QSPD10  165088        C   IND\n",
              "10  QSPD11  262719        C   PKN\n",
              "11  QSPD12  238013        C   IND\n",
              "12  QSPD13  493651        T   PKN\n",
              "13  QSPD14  489394        T   IND\n",
              "14  QSPD15  202417        T   PKN\n",
              "15  QSPD16  353774        G   IND\n",
              "16  QSPD17  367731        G   PKN\n",
              "17  QSPD18  295396        G   IND\n",
              "18  QSPD19  472732        G   PKN"
            ],
            "text/html": [
              "\n",
              "  <div id=\"df-860abb2a-d735-40f7-96de-4b8debce9e6c\">\n",
              "    <div class=\"colab-df-container\">\n",
              "      <div>\n",
              "<style scoped>\n",
              "    .dataframe tbody tr th:only-of-type {\n",
              "        vertical-align: middle;\n",
              "    }\n",
              "\n",
              "    .dataframe tbody tr th {\n",
              "        vertical-align: top;\n",
              "    }\n",
              "\n",
              "    .dataframe thead th {\n",
              "        text-align: right;\n",
              "    }\n",
              "</style>\n",
              "<table border=\"1\" class=\"dataframe\">\n",
              "  <thead>\n",
              "    <tr style=\"text-align: right;\">\n",
              "      <th></th>\n",
              "      <th>ID</th>\n",
              "      <th>Income</th>\n",
              "      <th>Category</th>\n",
              "      <th>Place</th>\n",
              "    </tr>\n",
              "  </thead>\n",
              "  <tbody>\n",
              "    <tr>\n",
              "      <th>0</th>\n",
              "      <td>QSPD1</td>\n",
              "      <td>491282</td>\n",
              "      <td>A</td>\n",
              "      <td>PKN</td>\n",
              "    </tr>\n",
              "    <tr>\n",
              "      <th>1</th>\n",
              "      <td>QSPD2</td>\n",
              "      <td>471283</td>\n",
              "      <td>A</td>\n",
              "      <td>IND</td>\n",
              "    </tr>\n",
              "    <tr>\n",
              "      <th>2</th>\n",
              "      <td>QSPD3</td>\n",
              "      <td>340922</td>\n",
              "      <td>A</td>\n",
              "      <td>PKN</td>\n",
              "    </tr>\n",
              "    <tr>\n",
              "      <th>3</th>\n",
              "      <td>QSPD4</td>\n",
              "      <td>201982</td>\n",
              "      <td>A</td>\n",
              "      <td>IND</td>\n",
              "    </tr>\n",
              "    <tr>\n",
              "      <th>4</th>\n",
              "      <td>QSPD5</td>\n",
              "      <td>467411</td>\n",
              "      <td>B</td>\n",
              "      <td>PKN</td>\n",
              "    </tr>\n",
              "    <tr>\n",
              "      <th>5</th>\n",
              "      <td>QSPD6</td>\n",
              "      <td>235213</td>\n",
              "      <td>B</td>\n",
              "      <td>IND</td>\n",
              "    </tr>\n",
              "    <tr>\n",
              "      <th>6</th>\n",
              "      <td>QSPD7</td>\n",
              "      <td>349655</td>\n",
              "      <td>B</td>\n",
              "      <td>PKN</td>\n",
              "    </tr>\n",
              "    <tr>\n",
              "      <th>7</th>\n",
              "      <td>QSPD8</td>\n",
              "      <td>136889</td>\n",
              "      <td>B</td>\n",
              "      <td>IND</td>\n",
              "    </tr>\n",
              "    <tr>\n",
              "      <th>8</th>\n",
              "      <td>QSPD9</td>\n",
              "      <td>202381</td>\n",
              "      <td>C</td>\n",
              "      <td>PKN</td>\n",
              "    </tr>\n",
              "    <tr>\n",
              "      <th>9</th>\n",
              "      <td>QSPD10</td>\n",
              "      <td>165088</td>\n",
              "      <td>C</td>\n",
              "      <td>IND</td>\n",
              "    </tr>\n",
              "    <tr>\n",
              "      <th>10</th>\n",
              "      <td>QSPD11</td>\n",
              "      <td>262719</td>\n",
              "      <td>C</td>\n",
              "      <td>PKN</td>\n",
              "    </tr>\n",
              "    <tr>\n",
              "      <th>11</th>\n",
              "      <td>QSPD12</td>\n",
              "      <td>238013</td>\n",
              "      <td>C</td>\n",
              "      <td>IND</td>\n",
              "    </tr>\n",
              "    <tr>\n",
              "      <th>12</th>\n",
              "      <td>QSPD13</td>\n",
              "      <td>493651</td>\n",
              "      <td>T</td>\n",
              "      <td>PKN</td>\n",
              "    </tr>\n",
              "    <tr>\n",
              "      <th>13</th>\n",
              "      <td>QSPD14</td>\n",
              "      <td>489394</td>\n",
              "      <td>T</td>\n",
              "      <td>IND</td>\n",
              "    </tr>\n",
              "    <tr>\n",
              "      <th>14</th>\n",
              "      <td>QSPD15</td>\n",
              "      <td>202417</td>\n",
              "      <td>T</td>\n",
              "      <td>PKN</td>\n",
              "    </tr>\n",
              "    <tr>\n",
              "      <th>15</th>\n",
              "      <td>QSPD16</td>\n",
              "      <td>353774</td>\n",
              "      <td>G</td>\n",
              "      <td>IND</td>\n",
              "    </tr>\n",
              "    <tr>\n",
              "      <th>16</th>\n",
              "      <td>QSPD17</td>\n",
              "      <td>367731</td>\n",
              "      <td>G</td>\n",
              "      <td>PKN</td>\n",
              "    </tr>\n",
              "    <tr>\n",
              "      <th>17</th>\n",
              "      <td>QSPD18</td>\n",
              "      <td>295396</td>\n",
              "      <td>G</td>\n",
              "      <td>IND</td>\n",
              "    </tr>\n",
              "    <tr>\n",
              "      <th>18</th>\n",
              "      <td>QSPD19</td>\n",
              "      <td>472732</td>\n",
              "      <td>G</td>\n",
              "      <td>PKN</td>\n",
              "    </tr>\n",
              "  </tbody>\n",
              "</table>\n",
              "</div>\n",
              "      <button class=\"colab-df-convert\" onclick=\"convertToInteractive('df-860abb2a-d735-40f7-96de-4b8debce9e6c')\"\n",
              "              title=\"Convert this dataframe to an interactive table.\"\n",
              "              style=\"display:none;\">\n",
              "        \n",
              "  <svg xmlns=\"http://www.w3.org/2000/svg\" height=\"24px\"viewBox=\"0 0 24 24\"\n",
              "       width=\"24px\">\n",
              "    <path d=\"M0 0h24v24H0V0z\" fill=\"none\"/>\n",
              "    <path d=\"M18.56 5.44l.94 2.06.94-2.06 2.06-.94-2.06-.94-.94-2.06-.94 2.06-2.06.94zm-11 1L8.5 8.5l.94-2.06 2.06-.94-2.06-.94L8.5 2.5l-.94 2.06-2.06.94zm10 10l.94 2.06.94-2.06 2.06-.94-2.06-.94-.94-2.06-.94 2.06-2.06.94z\"/><path d=\"M17.41 7.96l-1.37-1.37c-.4-.4-.92-.59-1.43-.59-.52 0-1.04.2-1.43.59L10.3 9.45l-7.72 7.72c-.78.78-.78 2.05 0 2.83L4 21.41c.39.39.9.59 1.41.59.51 0 1.02-.2 1.41-.59l7.78-7.78 2.81-2.81c.8-.78.8-2.07 0-2.86zM5.41 20L4 18.59l7.72-7.72 1.47 1.35L5.41 20z\"/>\n",
              "  </svg>\n",
              "      </button>\n",
              "      \n",
              "  <style>\n",
              "    .colab-df-container {\n",
              "      display:flex;\n",
              "      flex-wrap:wrap;\n",
              "      gap: 12px;\n",
              "    }\n",
              "\n",
              "    .colab-df-convert {\n",
              "      background-color: #E8F0FE;\n",
              "      border: none;\n",
              "      border-radius: 50%;\n",
              "      cursor: pointer;\n",
              "      display: none;\n",
              "      fill: #1967D2;\n",
              "      height: 32px;\n",
              "      padding: 0 0 0 0;\n",
              "      width: 32px;\n",
              "    }\n",
              "\n",
              "    .colab-df-convert:hover {\n",
              "      background-color: #E2EBFA;\n",
              "      box-shadow: 0px 1px 2px rgba(60, 64, 67, 0.3), 0px 1px 3px 1px rgba(60, 64, 67, 0.15);\n",
              "      fill: #174EA6;\n",
              "    }\n",
              "\n",
              "    [theme=dark] .colab-df-convert {\n",
              "      background-color: #3B4455;\n",
              "      fill: #D2E3FC;\n",
              "    }\n",
              "\n",
              "    [theme=dark] .colab-df-convert:hover {\n",
              "      background-color: #434B5C;\n",
              "      box-shadow: 0px 1px 3px 1px rgba(0, 0, 0, 0.15);\n",
              "      filter: drop-shadow(0px 1px 2px rgba(0, 0, 0, 0.3));\n",
              "      fill: #FFFFFF;\n",
              "    }\n",
              "  </style>\n",
              "\n",
              "      <script>\n",
              "        const buttonEl =\n",
              "          document.querySelector('#df-860abb2a-d735-40f7-96de-4b8debce9e6c button.colab-df-convert');\n",
              "        buttonEl.style.display =\n",
              "          google.colab.kernel.accessAllowed ? 'block' : 'none';\n",
              "\n",
              "        async function convertToInteractive(key) {\n",
              "          const element = document.querySelector('#df-860abb2a-d735-40f7-96de-4b8debce9e6c');\n",
              "          const dataTable =\n",
              "            await google.colab.kernel.invokeFunction('convertToInteractive',\n",
              "                                                     [key], {});\n",
              "          if (!dataTable) return;\n",
              "\n",
              "          const docLinkHtml = 'Like what you see? Visit the ' +\n",
              "            '<a target=\"_blank\" href=https://colab.research.google.com/notebooks/data_table.ipynb>data table notebook</a>'\n",
              "            + ' to learn more about interactive tables.';\n",
              "          element.innerHTML = '';\n",
              "          dataTable['output_type'] = 'display_data';\n",
              "          await google.colab.output.renderOutput(dataTable, element);\n",
              "          const docLink = document.createElement('div');\n",
              "          docLink.innerHTML = docLinkHtml;\n",
              "          element.appendChild(docLink);\n",
              "        }\n",
              "      </script>\n",
              "    </div>\n",
              "  </div>\n",
              "  "
            ]
          },
          "metadata": {},
          "execution_count": 31
        }
      ]
    },
    {
      "cell_type": "code",
      "source": [
        "print(\"Top Elements\\n\")\n",
        "df.head(0)"
      ],
      "metadata": {
        "colab": {
          "base_uri": "https://localhost:8080/",
          "height": 84
        },
        "id": "x-Cx7ik1Kv_m",
        "outputId": "f35c4d3f-4339-445f-f493-cf10dda5b1b3"
      },
      "execution_count": 32,
      "outputs": [
        {
          "output_type": "stream",
          "name": "stdout",
          "text": [
            "Top Elements\n",
            "\n"
          ]
        },
        {
          "output_type": "execute_result",
          "data": {
            "text/plain": [
              "Empty DataFrame\n",
              "Columns: [ID, Income, Category, Place]\n",
              "Index: []"
            ],
            "text/html": [
              "\n",
              "  <div id=\"df-b87d2003-0d2e-4a9b-b4f6-e9584ae781f2\">\n",
              "    <div class=\"colab-df-container\">\n",
              "      <div>\n",
              "<style scoped>\n",
              "    .dataframe tbody tr th:only-of-type {\n",
              "        vertical-align: middle;\n",
              "    }\n",
              "\n",
              "    .dataframe tbody tr th {\n",
              "        vertical-align: top;\n",
              "    }\n",
              "\n",
              "    .dataframe thead th {\n",
              "        text-align: right;\n",
              "    }\n",
              "</style>\n",
              "<table border=\"1\" class=\"dataframe\">\n",
              "  <thead>\n",
              "    <tr style=\"text-align: right;\">\n",
              "      <th></th>\n",
              "      <th>ID</th>\n",
              "      <th>Income</th>\n",
              "      <th>Category</th>\n",
              "      <th>Place</th>\n",
              "    </tr>\n",
              "  </thead>\n",
              "  <tbody>\n",
              "  </tbody>\n",
              "</table>\n",
              "</div>\n",
              "      <button class=\"colab-df-convert\" onclick=\"convertToInteractive('df-b87d2003-0d2e-4a9b-b4f6-e9584ae781f2')\"\n",
              "              title=\"Convert this dataframe to an interactive table.\"\n",
              "              style=\"display:none;\">\n",
              "        \n",
              "  <svg xmlns=\"http://www.w3.org/2000/svg\" height=\"24px\"viewBox=\"0 0 24 24\"\n",
              "       width=\"24px\">\n",
              "    <path d=\"M0 0h24v24H0V0z\" fill=\"none\"/>\n",
              "    <path d=\"M18.56 5.44l.94 2.06.94-2.06 2.06-.94-2.06-.94-.94-2.06-.94 2.06-2.06.94zm-11 1L8.5 8.5l.94-2.06 2.06-.94-2.06-.94L8.5 2.5l-.94 2.06-2.06.94zm10 10l.94 2.06.94-2.06 2.06-.94-2.06-.94-.94-2.06-.94 2.06-2.06.94z\"/><path d=\"M17.41 7.96l-1.37-1.37c-.4-.4-.92-.59-1.43-.59-.52 0-1.04.2-1.43.59L10.3 9.45l-7.72 7.72c-.78.78-.78 2.05 0 2.83L4 21.41c.39.39.9.59 1.41.59.51 0 1.02-.2 1.41-.59l7.78-7.78 2.81-2.81c.8-.78.8-2.07 0-2.86zM5.41 20L4 18.59l7.72-7.72 1.47 1.35L5.41 20z\"/>\n",
              "  </svg>\n",
              "      </button>\n",
              "      \n",
              "  <style>\n",
              "    .colab-df-container {\n",
              "      display:flex;\n",
              "      flex-wrap:wrap;\n",
              "      gap: 12px;\n",
              "    }\n",
              "\n",
              "    .colab-df-convert {\n",
              "      background-color: #E8F0FE;\n",
              "      border: none;\n",
              "      border-radius: 50%;\n",
              "      cursor: pointer;\n",
              "      display: none;\n",
              "      fill: #1967D2;\n",
              "      height: 32px;\n",
              "      padding: 0 0 0 0;\n",
              "      width: 32px;\n",
              "    }\n",
              "\n",
              "    .colab-df-convert:hover {\n",
              "      background-color: #E2EBFA;\n",
              "      box-shadow: 0px 1px 2px rgba(60, 64, 67, 0.3), 0px 1px 3px 1px rgba(60, 64, 67, 0.15);\n",
              "      fill: #174EA6;\n",
              "    }\n",
              "\n",
              "    [theme=dark] .colab-df-convert {\n",
              "      background-color: #3B4455;\n",
              "      fill: #D2E3FC;\n",
              "    }\n",
              "\n",
              "    [theme=dark] .colab-df-convert:hover {\n",
              "      background-color: #434B5C;\n",
              "      box-shadow: 0px 1px 3px 1px rgba(0, 0, 0, 0.15);\n",
              "      filter: drop-shadow(0px 1px 2px rgba(0, 0, 0, 0.3));\n",
              "      fill: #FFFFFF;\n",
              "    }\n",
              "  </style>\n",
              "\n",
              "      <script>\n",
              "        const buttonEl =\n",
              "          document.querySelector('#df-b87d2003-0d2e-4a9b-b4f6-e9584ae781f2 button.colab-df-convert');\n",
              "        buttonEl.style.display =\n",
              "          google.colab.kernel.accessAllowed ? 'block' : 'none';\n",
              "\n",
              "        async function convertToInteractive(key) {\n",
              "          const element = document.querySelector('#df-b87d2003-0d2e-4a9b-b4f6-e9584ae781f2');\n",
              "          const dataTable =\n",
              "            await google.colab.kernel.invokeFunction('convertToInteractive',\n",
              "                                                     [key], {});\n",
              "          if (!dataTable) return;\n",
              "\n",
              "          const docLinkHtml = 'Like what you see? Visit the ' +\n",
              "            '<a target=\"_blank\" href=https://colab.research.google.com/notebooks/data_table.ipynb>data table notebook</a>'\n",
              "            + ' to learn more about interactive tables.';\n",
              "          element.innerHTML = '';\n",
              "          dataTable['output_type'] = 'display_data';\n",
              "          await google.colab.output.renderOutput(dataTable, element);\n",
              "          const docLink = document.createElement('div');\n",
              "          docLink.innerHTML = docLinkHtml;\n",
              "          element.appendChild(docLink);\n",
              "        }\n",
              "      </script>\n",
              "    </div>\n",
              "  </div>\n",
              "  "
            ]
          },
          "metadata": {},
          "execution_count": 32
        }
      ]
    },
    {
      "cell_type": "code",
      "source": [
        "print(\"Bottom Elements\\n\")\n",
        "df.tail(3)"
      ],
      "metadata": {
        "colab": {
          "base_uri": "https://localhost:8080/",
          "height": 178
        },
        "id": "0MsyeC0VKyt1",
        "outputId": "43d31d27-0a97-4668-8fc9-98b6eae66d47"
      },
      "execution_count": 33,
      "outputs": [
        {
          "output_type": "stream",
          "name": "stdout",
          "text": [
            "Bottom Elements\n",
            "\n"
          ]
        },
        {
          "output_type": "execute_result",
          "data": {
            "text/plain": [
              "        ID  Income Category Place\n",
              "16  QSPD17  367731        G   PKN\n",
              "17  QSPD18  295396        G   IND\n",
              "18  QSPD19  472732        G   PKN"
            ],
            "text/html": [
              "\n",
              "  <div id=\"df-3bd44ff2-a866-4244-857d-688f26f4f62b\">\n",
              "    <div class=\"colab-df-container\">\n",
              "      <div>\n",
              "<style scoped>\n",
              "    .dataframe tbody tr th:only-of-type {\n",
              "        vertical-align: middle;\n",
              "    }\n",
              "\n",
              "    .dataframe tbody tr th {\n",
              "        vertical-align: top;\n",
              "    }\n",
              "\n",
              "    .dataframe thead th {\n",
              "        text-align: right;\n",
              "    }\n",
              "</style>\n",
              "<table border=\"1\" class=\"dataframe\">\n",
              "  <thead>\n",
              "    <tr style=\"text-align: right;\">\n",
              "      <th></th>\n",
              "      <th>ID</th>\n",
              "      <th>Income</th>\n",
              "      <th>Category</th>\n",
              "      <th>Place</th>\n",
              "    </tr>\n",
              "  </thead>\n",
              "  <tbody>\n",
              "    <tr>\n",
              "      <th>16</th>\n",
              "      <td>QSPD17</td>\n",
              "      <td>367731</td>\n",
              "      <td>G</td>\n",
              "      <td>PKN</td>\n",
              "    </tr>\n",
              "    <tr>\n",
              "      <th>17</th>\n",
              "      <td>QSPD18</td>\n",
              "      <td>295396</td>\n",
              "      <td>G</td>\n",
              "      <td>IND</td>\n",
              "    </tr>\n",
              "    <tr>\n",
              "      <th>18</th>\n",
              "      <td>QSPD19</td>\n",
              "      <td>472732</td>\n",
              "      <td>G</td>\n",
              "      <td>PKN</td>\n",
              "    </tr>\n",
              "  </tbody>\n",
              "</table>\n",
              "</div>\n",
              "      <button class=\"colab-df-convert\" onclick=\"convertToInteractive('df-3bd44ff2-a866-4244-857d-688f26f4f62b')\"\n",
              "              title=\"Convert this dataframe to an interactive table.\"\n",
              "              style=\"display:none;\">\n",
              "        \n",
              "  <svg xmlns=\"http://www.w3.org/2000/svg\" height=\"24px\"viewBox=\"0 0 24 24\"\n",
              "       width=\"24px\">\n",
              "    <path d=\"M0 0h24v24H0V0z\" fill=\"none\"/>\n",
              "    <path d=\"M18.56 5.44l.94 2.06.94-2.06 2.06-.94-2.06-.94-.94-2.06-.94 2.06-2.06.94zm-11 1L8.5 8.5l.94-2.06 2.06-.94-2.06-.94L8.5 2.5l-.94 2.06-2.06.94zm10 10l.94 2.06.94-2.06 2.06-.94-2.06-.94-.94-2.06-.94 2.06-2.06.94z\"/><path d=\"M17.41 7.96l-1.37-1.37c-.4-.4-.92-.59-1.43-.59-.52 0-1.04.2-1.43.59L10.3 9.45l-7.72 7.72c-.78.78-.78 2.05 0 2.83L4 21.41c.39.39.9.59 1.41.59.51 0 1.02-.2 1.41-.59l7.78-7.78 2.81-2.81c.8-.78.8-2.07 0-2.86zM5.41 20L4 18.59l7.72-7.72 1.47 1.35L5.41 20z\"/>\n",
              "  </svg>\n",
              "      </button>\n",
              "      \n",
              "  <style>\n",
              "    .colab-df-container {\n",
              "      display:flex;\n",
              "      flex-wrap:wrap;\n",
              "      gap: 12px;\n",
              "    }\n",
              "\n",
              "    .colab-df-convert {\n",
              "      background-color: #E8F0FE;\n",
              "      border: none;\n",
              "      border-radius: 50%;\n",
              "      cursor: pointer;\n",
              "      display: none;\n",
              "      fill: #1967D2;\n",
              "      height: 32px;\n",
              "      padding: 0 0 0 0;\n",
              "      width: 32px;\n",
              "    }\n",
              "\n",
              "    .colab-df-convert:hover {\n",
              "      background-color: #E2EBFA;\n",
              "      box-shadow: 0px 1px 2px rgba(60, 64, 67, 0.3), 0px 1px 3px 1px rgba(60, 64, 67, 0.15);\n",
              "      fill: #174EA6;\n",
              "    }\n",
              "\n",
              "    [theme=dark] .colab-df-convert {\n",
              "      background-color: #3B4455;\n",
              "      fill: #D2E3FC;\n",
              "    }\n",
              "\n",
              "    [theme=dark] .colab-df-convert:hover {\n",
              "      background-color: #434B5C;\n",
              "      box-shadow: 0px 1px 3px 1px rgba(0, 0, 0, 0.15);\n",
              "      filter: drop-shadow(0px 1px 2px rgba(0, 0, 0, 0.3));\n",
              "      fill: #FFFFFF;\n",
              "    }\n",
              "  </style>\n",
              "\n",
              "      <script>\n",
              "        const buttonEl =\n",
              "          document.querySelector('#df-3bd44ff2-a866-4244-857d-688f26f4f62b button.colab-df-convert');\n",
              "        buttonEl.style.display =\n",
              "          google.colab.kernel.accessAllowed ? 'block' : 'none';\n",
              "\n",
              "        async function convertToInteractive(key) {\n",
              "          const element = document.querySelector('#df-3bd44ff2-a866-4244-857d-688f26f4f62b');\n",
              "          const dataTable =\n",
              "            await google.colab.kernel.invokeFunction('convertToInteractive',\n",
              "                                                     [key], {});\n",
              "          if (!dataTable) return;\n",
              "\n",
              "          const docLinkHtml = 'Like what you see? Visit the ' +\n",
              "            '<a target=\"_blank\" href=https://colab.research.google.com/notebooks/data_table.ipynb>data table notebook</a>'\n",
              "            + ' to learn more about interactive tables.';\n",
              "          element.innerHTML = '';\n",
              "          dataTable['output_type'] = 'display_data';\n",
              "          await google.colab.output.renderOutput(dataTable, element);\n",
              "          const docLink = document.createElement('div');\n",
              "          docLink.innerHTML = docLinkHtml;\n",
              "          element.appendChild(docLink);\n",
              "        }\n",
              "      </script>\n",
              "    </div>\n",
              "  </div>\n",
              "  "
            ]
          },
          "metadata": {},
          "execution_count": 33
        }
      ]
    },
    {
      "cell_type": "code",
      "source": [
        "print(\"Specific Coloumn\\n\")\n",
        "df['Category'].head(3)"
      ],
      "metadata": {
        "colab": {
          "base_uri": "https://localhost:8080/"
        },
        "id": "Sjicr3ZdK1ND",
        "outputId": "20375586-dbb5-4d7d-c78e-494821acaf55"
      },
      "execution_count": 34,
      "outputs": [
        {
          "output_type": "stream",
          "name": "stdout",
          "text": [
            "Specific Coloumn\n",
            "\n"
          ]
        },
        {
          "output_type": "execute_result",
          "data": {
            "text/plain": [
              "0    A\n",
              "1    A\n",
              "2    A\n",
              "Name: Category, dtype: object"
            ]
          },
          "metadata": {},
          "execution_count": 34
        }
      ]
    },
    {
      "cell_type": "code",
      "source": [
        "print(\"Replace negative numbers with NaN\\n\")\n",
        "df.replace(-999,np.nan)"
      ],
      "metadata": {
        "colab": {
          "base_uri": "https://localhost:8080/",
          "height": 679
        },
        "id": "dsG_so8qK3yi",
        "outputId": "bf5d33ab-134d-4af6-d296-0b28e3895486"
      },
      "execution_count": 35,
      "outputs": [
        {
          "output_type": "stream",
          "name": "stdout",
          "text": [
            "Replace negative numbers with NaN\n",
            "\n"
          ]
        },
        {
          "output_type": "execute_result",
          "data": {
            "text/plain": [
              "        ID  Income Category Place\n",
              "0    QSPD1  491282        A   PKN\n",
              "1    QSPD2  471283        A   IND\n",
              "2    QSPD3  340922        A   PKN\n",
              "3    QSPD4  201982        A   IND\n",
              "4    QSPD5  467411        B   PKN\n",
              "5    QSPD6  235213        B   IND\n",
              "6    QSPD7  349655        B   PKN\n",
              "7    QSPD8  136889        B   IND\n",
              "8    QSPD9  202381        C   PKN\n",
              "9   QSPD10  165088        C   IND\n",
              "10  QSPD11  262719        C   PKN\n",
              "11  QSPD12  238013        C   IND\n",
              "12  QSPD13  493651        T   PKN\n",
              "13  QSPD14  489394        T   IND\n",
              "14  QSPD15  202417        T   PKN\n",
              "15  QSPD16  353774        G   IND\n",
              "16  QSPD17  367731        G   PKN\n",
              "17  QSPD18  295396        G   IND\n",
              "18  QSPD19  472732        G   PKN"
            ],
            "text/html": [
              "\n",
              "  <div id=\"df-a1e8276f-cd5c-428d-9ff1-7f1fd093e05d\">\n",
              "    <div class=\"colab-df-container\">\n",
              "      <div>\n",
              "<style scoped>\n",
              "    .dataframe tbody tr th:only-of-type {\n",
              "        vertical-align: middle;\n",
              "    }\n",
              "\n",
              "    .dataframe tbody tr th {\n",
              "        vertical-align: top;\n",
              "    }\n",
              "\n",
              "    .dataframe thead th {\n",
              "        text-align: right;\n",
              "    }\n",
              "</style>\n",
              "<table border=\"1\" class=\"dataframe\">\n",
              "  <thead>\n",
              "    <tr style=\"text-align: right;\">\n",
              "      <th></th>\n",
              "      <th>ID</th>\n",
              "      <th>Income</th>\n",
              "      <th>Category</th>\n",
              "      <th>Place</th>\n",
              "    </tr>\n",
              "  </thead>\n",
              "  <tbody>\n",
              "    <tr>\n",
              "      <th>0</th>\n",
              "      <td>QSPD1</td>\n",
              "      <td>491282</td>\n",
              "      <td>A</td>\n",
              "      <td>PKN</td>\n",
              "    </tr>\n",
              "    <tr>\n",
              "      <th>1</th>\n",
              "      <td>QSPD2</td>\n",
              "      <td>471283</td>\n",
              "      <td>A</td>\n",
              "      <td>IND</td>\n",
              "    </tr>\n",
              "    <tr>\n",
              "      <th>2</th>\n",
              "      <td>QSPD3</td>\n",
              "      <td>340922</td>\n",
              "      <td>A</td>\n",
              "      <td>PKN</td>\n",
              "    </tr>\n",
              "    <tr>\n",
              "      <th>3</th>\n",
              "      <td>QSPD4</td>\n",
              "      <td>201982</td>\n",
              "      <td>A</td>\n",
              "      <td>IND</td>\n",
              "    </tr>\n",
              "    <tr>\n",
              "      <th>4</th>\n",
              "      <td>QSPD5</td>\n",
              "      <td>467411</td>\n",
              "      <td>B</td>\n",
              "      <td>PKN</td>\n",
              "    </tr>\n",
              "    <tr>\n",
              "      <th>5</th>\n",
              "      <td>QSPD6</td>\n",
              "      <td>235213</td>\n",
              "      <td>B</td>\n",
              "      <td>IND</td>\n",
              "    </tr>\n",
              "    <tr>\n",
              "      <th>6</th>\n",
              "      <td>QSPD7</td>\n",
              "      <td>349655</td>\n",
              "      <td>B</td>\n",
              "      <td>PKN</td>\n",
              "    </tr>\n",
              "    <tr>\n",
              "      <th>7</th>\n",
              "      <td>QSPD8</td>\n",
              "      <td>136889</td>\n",
              "      <td>B</td>\n",
              "      <td>IND</td>\n",
              "    </tr>\n",
              "    <tr>\n",
              "      <th>8</th>\n",
              "      <td>QSPD9</td>\n",
              "      <td>202381</td>\n",
              "      <td>C</td>\n",
              "      <td>PKN</td>\n",
              "    </tr>\n",
              "    <tr>\n",
              "      <th>9</th>\n",
              "      <td>QSPD10</td>\n",
              "      <td>165088</td>\n",
              "      <td>C</td>\n",
              "      <td>IND</td>\n",
              "    </tr>\n",
              "    <tr>\n",
              "      <th>10</th>\n",
              "      <td>QSPD11</td>\n",
              "      <td>262719</td>\n",
              "      <td>C</td>\n",
              "      <td>PKN</td>\n",
              "    </tr>\n",
              "    <tr>\n",
              "      <th>11</th>\n",
              "      <td>QSPD12</td>\n",
              "      <td>238013</td>\n",
              "      <td>C</td>\n",
              "      <td>IND</td>\n",
              "    </tr>\n",
              "    <tr>\n",
              "      <th>12</th>\n",
              "      <td>QSPD13</td>\n",
              "      <td>493651</td>\n",
              "      <td>T</td>\n",
              "      <td>PKN</td>\n",
              "    </tr>\n",
              "    <tr>\n",
              "      <th>13</th>\n",
              "      <td>QSPD14</td>\n",
              "      <td>489394</td>\n",
              "      <td>T</td>\n",
              "      <td>IND</td>\n",
              "    </tr>\n",
              "    <tr>\n",
              "      <th>14</th>\n",
              "      <td>QSPD15</td>\n",
              "      <td>202417</td>\n",
              "      <td>T</td>\n",
              "      <td>PKN</td>\n",
              "    </tr>\n",
              "    <tr>\n",
              "      <th>15</th>\n",
              "      <td>QSPD16</td>\n",
              "      <td>353774</td>\n",
              "      <td>G</td>\n",
              "      <td>IND</td>\n",
              "    </tr>\n",
              "    <tr>\n",
              "      <th>16</th>\n",
              "      <td>QSPD17</td>\n",
              "      <td>367731</td>\n",
              "      <td>G</td>\n",
              "      <td>PKN</td>\n",
              "    </tr>\n",
              "    <tr>\n",
              "      <th>17</th>\n",
              "      <td>QSPD18</td>\n",
              "      <td>295396</td>\n",
              "      <td>G</td>\n",
              "      <td>IND</td>\n",
              "    </tr>\n",
              "    <tr>\n",
              "      <th>18</th>\n",
              "      <td>QSPD19</td>\n",
              "      <td>472732</td>\n",
              "      <td>G</td>\n",
              "      <td>PKN</td>\n",
              "    </tr>\n",
              "  </tbody>\n",
              "</table>\n",
              "</div>\n",
              "      <button class=\"colab-df-convert\" onclick=\"convertToInteractive('df-a1e8276f-cd5c-428d-9ff1-7f1fd093e05d')\"\n",
              "              title=\"Convert this dataframe to an interactive table.\"\n",
              "              style=\"display:none;\">\n",
              "        \n",
              "  <svg xmlns=\"http://www.w3.org/2000/svg\" height=\"24px\"viewBox=\"0 0 24 24\"\n",
              "       width=\"24px\">\n",
              "    <path d=\"M0 0h24v24H0V0z\" fill=\"none\"/>\n",
              "    <path d=\"M18.56 5.44l.94 2.06.94-2.06 2.06-.94-2.06-.94-.94-2.06-.94 2.06-2.06.94zm-11 1L8.5 8.5l.94-2.06 2.06-.94-2.06-.94L8.5 2.5l-.94 2.06-2.06.94zm10 10l.94 2.06.94-2.06 2.06-.94-2.06-.94-.94-2.06-.94 2.06-2.06.94z\"/><path d=\"M17.41 7.96l-1.37-1.37c-.4-.4-.92-.59-1.43-.59-.52 0-1.04.2-1.43.59L10.3 9.45l-7.72 7.72c-.78.78-.78 2.05 0 2.83L4 21.41c.39.39.9.59 1.41.59.51 0 1.02-.2 1.41-.59l7.78-7.78 2.81-2.81c.8-.78.8-2.07 0-2.86zM5.41 20L4 18.59l7.72-7.72 1.47 1.35L5.41 20z\"/>\n",
              "  </svg>\n",
              "      </button>\n",
              "      \n",
              "  <style>\n",
              "    .colab-df-container {\n",
              "      display:flex;\n",
              "      flex-wrap:wrap;\n",
              "      gap: 12px;\n",
              "    }\n",
              "\n",
              "    .colab-df-convert {\n",
              "      background-color: #E8F0FE;\n",
              "      border: none;\n",
              "      border-radius: 50%;\n",
              "      cursor: pointer;\n",
              "      display: none;\n",
              "      fill: #1967D2;\n",
              "      height: 32px;\n",
              "      padding: 0 0 0 0;\n",
              "      width: 32px;\n",
              "    }\n",
              "\n",
              "    .colab-df-convert:hover {\n",
              "      background-color: #E2EBFA;\n",
              "      box-shadow: 0px 1px 2px rgba(60, 64, 67, 0.3), 0px 1px 3px 1px rgba(60, 64, 67, 0.15);\n",
              "      fill: #174EA6;\n",
              "    }\n",
              "\n",
              "    [theme=dark] .colab-df-convert {\n",
              "      background-color: #3B4455;\n",
              "      fill: #D2E3FC;\n",
              "    }\n",
              "\n",
              "    [theme=dark] .colab-df-convert:hover {\n",
              "      background-color: #434B5C;\n",
              "      box-shadow: 0px 1px 3px 1px rgba(0, 0, 0, 0.15);\n",
              "      filter: drop-shadow(0px 1px 2px rgba(0, 0, 0, 0.3));\n",
              "      fill: #FFFFFF;\n",
              "    }\n",
              "  </style>\n",
              "\n",
              "      <script>\n",
              "        const buttonEl =\n",
              "          document.querySelector('#df-a1e8276f-cd5c-428d-9ff1-7f1fd093e05d button.colab-df-convert');\n",
              "        buttonEl.style.display =\n",
              "          google.colab.kernel.accessAllowed ? 'block' : 'none';\n",
              "\n",
              "        async function convertToInteractive(key) {\n",
              "          const element = document.querySelector('#df-a1e8276f-cd5c-428d-9ff1-7f1fd093e05d');\n",
              "          const dataTable =\n",
              "            await google.colab.kernel.invokeFunction('convertToInteractive',\n",
              "                                                     [key], {});\n",
              "          if (!dataTable) return;\n",
              "\n",
              "          const docLinkHtml = 'Like what you see? Visit the ' +\n",
              "            '<a target=\"_blank\" href=https://colab.research.google.com/notebooks/data_table.ipynb>data table notebook</a>'\n",
              "            + ' to learn more about interactive tables.';\n",
              "          element.innerHTML = '';\n",
              "          dataTable['output_type'] = 'display_data';\n",
              "          await google.colab.output.renderOutput(dataTable, element);\n",
              "          const docLink = document.createElement('div');\n",
              "          docLink.innerHTML = docLinkHtml;\n",
              "          element.appendChild(docLink);\n",
              "        }\n",
              "      </script>\n",
              "    </div>\n",
              "  </div>\n",
              "  "
            ]
          },
          "metadata": {},
          "execution_count": 35
        }
      ]
    },
    {
      "cell_type": "markdown",
      "source": [
        "## Matplotlib\n",
        "Details of <a href=\"https://matplotlib.org/api/index.html\" > matplotlib </a>"
      ],
      "metadata": {
        "id": "8ZyCi0VcLe3J"
      }
    },
    {
      "cell_type": "code",
      "source": [
        "import matplotlib.pyplot as plt\n",
        "import matplotlib.mlab as mlab"
      ],
      "metadata": {
        "id": "LMP7uwx_K6sM"
      },
      "execution_count": 36,
      "outputs": []
    },
    {
      "cell_type": "markdown",
      "source": [
        "### Line Plot"
      ],
      "metadata": {
        "id": "PjU1KxApLwwQ"
      }
    },
    {
      "cell_type": "code",
      "source": [
        "# Line plot\n",
        "plt.plot([1,2,3,4],[1,4,5,6])\n",
        "plt.xlabel('some numbers')\n",
        "plt.ylabel('some numbers')\n",
        "plt.show()"
      ],
      "metadata": {
        "colab": {
          "base_uri": "https://localhost:8080/",
          "height": 449
        },
        "id": "_awTTOIXLsw4",
        "outputId": "a0fa16c4-ff01-49b3-a714-7bed8ba041ac"
      },
      "execution_count": 37,
      "outputs": [
        {
          "output_type": "display_data",
          "data": {
            "text/plain": [
              "<Figure size 640x480 with 1 Axes>"
            ],
            "image/png": "[encoded data removed]"
          },
          "metadata": {}
        }
      ]
    },
    {
      "cell_type": "code",
      "source": [
        "### Adding elements to line plots\n",
        "t = np.arange(0.0, 2.0, 0.01) # Generate equally space numbers between 0 and 2\n",
        "s = 1 + np.sin(2*np.pi*t)  # Apply sin function to the random numbers\n",
        "plt.plot(t, s)\n",
        "\n",
        "plt.xlabel('time (s)')\n",
        "plt.ylabel('voltage (mV)')\n",
        "plt.title('About as simple as it gets, folks')\n",
        "plt.grid(True)\n",
        "plt.savefig(\"test.png\") # Save a plot. Check the directory\n",
        "plt.show()"
      ],
      "metadata": {
        "colab": {
          "base_uri": "https://localhost:8080/",
          "height": 472
        },
        "id": "cDJWxAfNL0hd",
        "outputId": "ffc2da08-2390-411f-86e0-c3192f139c17"
      },
      "execution_count": 38,
      "outputs": [
        {
          "output_type": "display_data",
          "data": {
            "text/plain": [
              "<Figure size 640x480 with 1 Axes>"
            ],
            "image/png": "[encoded data removed]"
          },
          "metadata": {}
        }
      ]
    },
    {
      "cell_type": "markdown",
      "source": [
        "### Bar Plot"
      ],
      "metadata": {
        "id": "8hh5xac-MEYo"
      }
    },
    {
      "cell_type": "code",
      "source": [
        "y = [3, 10, 7, 5, 3, 4.5, 6, 8.1]\n",
        "x = range(len(y))\n",
        "width = 1/1.5\n",
        "plt.bar(x, y, width, color=\"blue\")\n",
        "plt.show()"
      ],
      "metadata": {
        "colab": {
          "base_uri": "https://localhost:8080/",
          "height": 430
        },
        "id": "00DH2YpZL3IK",
        "outputId": "22745a20-3a60-489b-ad2b-c668f369b2c8"
      },
      "execution_count": 39,
      "outputs": [
        {
          "output_type": "display_data",
          "data": {
            "text/plain": [
              "<Figure size 640x480 with 1 Axes>"
            ],
            "image/png": "[encoded data removed]"
          },
          "metadata": {}
        }
      ]
    },
    {
      "cell_type": "markdown",
      "source": [
        "### Scatter Plot"
      ],
      "metadata": {
        "id": "oox1qbTQMCav"
      }
    },
    {
      "cell_type": "code",
      "source": [
        "N = 50\n",
        "# Generate random numbers\n",
        "x = np.random.rand(N)\n",
        "y = np.random.rand(N)\n",
        "colors = np.random.rand(N)\n",
        "area = np.pi * (15*np.random.rand(N))**2  # 0 to 15 point radii\n",
        "\n",
        "plt.scatter(x, y, s=area, c=colors, alpha=0.5)\n",
        "plt.show()"
      ],
      "metadata": {
        "colab": {
          "base_uri": "https://localhost:8080/",
          "height": 430
        },
        "id": "V3p2fveJL7B-",
        "outputId": "59701c02-c8ef-4465-f965-1babe4909a58"
      },
      "execution_count": 40,
      "outputs": [
        {
          "output_type": "display_data",
          "data": {
            "text/plain": [
              "<Figure size 640x480 with 1 Axes>"
            ],
            "image/png": "[encoded data removed]"
          },
          "metadata": {}
        }
      ]
    },
    {
      "cell_type": "markdown",
      "source": [
        "### Histogram"
      ],
      "metadata": {
        "id": "3QSyW2l3MJpw"
      }
    },
    {
      "cell_type": "code",
      "source": [
        "mu, sigma = 100, 15\n",
        "from scipy.stats import norm\n",
        "x = mu + sigma*np.random.randn(10000) # Generate random values with some distribution\n",
        "\n",
        "# the histogram of the data\n",
        "n, bins, patches = plt.hist(x, 50, density=2, facecolor='green', alpha=0.75)\n",
        "\n",
        "# add a 'best fit' line\n",
        "y = norm.pdf( bins, mu, sigma)\n",
        "l = plt.plot(bins, y, 'r--', linewidth=1)\n",
        "\n",
        "plt.xlabel('Smarts')\n",
        "plt.ylabel('Probability')\n",
        "plt.title(r'$\\mathrm{Histogram\\ of\\ IQ:}\\ \\mu=100,\\ \\sigma=15$')\n",
        "plt.axis([40, 160, 0, 0.03])\n",
        "plt.grid(True)\n",
        "\n",
        "plt.show()"
      ],
      "metadata": {
        "colab": {
          "base_uri": "https://localhost:8080/",
          "height": 474
        },
        "id": "vvGbZTO0L-cI",
        "outputId": "7f067892-16e2-4e89-c6e5-4f6e2a9bdb6b"
      },
      "execution_count": 41,
      "outputs": [
        {
          "output_type": "display_data",
          "data": {
            "text/plain": [
              "<Figure size 640x480 with 1 Axes>"
            ],
            "image/png": "[encoded data removed]"
          },
          "metadata": {}
        }
      ]
    },
    {
      "cell_type": "markdown",
      "source": [
        "### Pie Chart"
      ],
      "metadata": {
        "id": "giM_j58lMXsX"
      }
    },
    {
      "cell_type": "code",
      "source": [
        "# Pie chart, where the slices will be ordered and plotted counter-clockwise:\n",
        "labels = 'Frogs', 'Hogs', 'Dogs', 'Logs'\n",
        "sizes = [15, 30, 45, 10]\n",
        "explode = (0, 0.1, 0, 0)  # only \"explode\" the 2nd slice (i.e. 'Hogs')\n",
        "\n",
        "fig1, ax1 = plt.subplots()\n",
        "ax1.pie(sizes, explode=explode, labels=labels, autopct='%1.1f%%',\n",
        "        shadow=True, startangle=90)\n",
        "ax1.axis('equal')  # Equal aspect ratio ensures that pie is drawn as a circle.\n",
        "\n",
        "plt.show()"
      ],
      "metadata": {
        "colab": {
          "base_uri": "https://localhost:8080/",
          "height": 406
        },
        "id": "fLgEMnTOMR4S",
        "outputId": "8fc59370-0331-44fd-f752-337c8b8c1b08"
      },
      "execution_count": 42,
      "outputs": [
        {
          "output_type": "display_data",
          "data": {
            "text/plain": [
              "<Figure size 640x480 with 1 Axes>"
            ],
            "image/png": "[encoded data removed]"
          },
          "metadata": {}
        }
      ]
    },
    {
      "cell_type": "code",
      "source": [],
      "metadata": {
        "id": "MhXD3e0SMa0N"
      },
      "execution_count": null,
      "outputs": []
    }
  ]
}